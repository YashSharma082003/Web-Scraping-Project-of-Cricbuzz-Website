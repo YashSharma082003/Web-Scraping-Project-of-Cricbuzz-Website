{
  "cells": [
    {
      "cell_type": "markdown",
      "metadata": {
        "id": "view-in-github",
        "colab_type": "text"
      },
      "source": [
        "<a href=\"https://colab.research.google.com/github/YashSharma082003/Web-Scraping-Project-of-Cricbuzz-Website/blob/main/Web_Scraping.ipynb\" target=\"_parent\"><img src=\"https://colab.research.google.com/assets/colab-badge.svg\" alt=\"Open In Colab\"/></a>"
      ]
    },
    {
      "cell_type": "code",
      "execution_count": null,
      "metadata": {
        "id": "NOu7g0GoX0L7",
        "outputId": "2632771c-3014-4da3-f397-89fed56e14d4"
      },
      "outputs": [
        {
          "name": "stderr",
          "output_type": "stream",
          "text": [
            "\n",
            "[notice] A new release of pip available: 22.3.1 -> 23.0\n",
            "[notice] To update, run: python.exe -m pip install --upgrade pip\n",
            "\n",
            "[notice] A new release of pip available: 22.3.1 -> 23.0\n",
            "[notice] To update, run: python.exe -m pip install --upgrade pip\n"
          ]
        }
      ],
      "source": [
        "!pip install requests --upgrade --quiet\n",
        "!pip install BeautifulSoup4 --upgrade --quiet"
      ]
    },
    {
      "cell_type": "code",
      "execution_count": null,
      "metadata": {
        "id": "rUoINVCtX0MD"
      },
      "outputs": [],
      "source": [
        "import pandas as pd\n",
        "import requests\n",
        "from bs4 import BeautifulSoup"
      ]
    },
    {
      "cell_type": "code",
      "execution_count": null,
      "metadata": {
        "id": "6cH67mLWX0ME"
      },
      "outputs": [],
      "source": [
        "Url = \"https://www.cricbuzz.com/cricket-stats/icc-rankings/men/batting\""
      ]
    },
    {
      "cell_type": "code",
      "execution_count": null,
      "metadata": {
        "id": "V6zelDYbX0MF"
      },
      "outputs": [],
      "source": [
        "response = requests.get(Url)"
      ]
    },
    {
      "cell_type": "code",
      "execution_count": null,
      "metadata": {
        "id": "unHQ-DH5X0MG",
        "outputId": "32af2a43-20fe-4136-b211-250c600ffad0"
      },
      "outputs": [
        {
          "data": {
            "text/plain": [
              "200"
            ]
          },
          "execution_count": 5,
          "metadata": {},
          "output_type": "execute_result"
        }
      ],
      "source": [
        "response.status_code"
      ]
    },
    {
      "cell_type": "code",
      "execution_count": null,
      "metadata": {
        "id": "F_aBri9RX0MH",
        "outputId": "d681cab0-f378-4f0b-9f7c-ffad6d30ef22"
      },
      "outputs": [
        {
          "data": {
            "text/plain": [
              "324488"
            ]
          },
          "execution_count": 6,
          "metadata": {},
          "output_type": "execute_result"
        }
      ],
      "source": [
        "len(response.text)"
      ]
    },
    {
      "cell_type": "markdown",
      "metadata": {
        "id": "eH4bQKlmX0MI"
      },
      "source": [
        "Batting Test Match "
      ]
    },
    {
      "cell_type": "code",
      "execution_count": null,
      "metadata": {
        "id": "_mmae7ghX0MM"
      },
      "outputs": [],
      "source": [
        "soup = BeautifulSoup(response.text, 'html.parser')\n",
        "box = soup.find('div', class_=\"cb-col cb-col-100 cb-padding-left0\")"
      ]
    },
    {
      "cell_type": "code",
      "execution_count": null,
      "metadata": {
        "id": "CTMaM_V5X0MO",
        "outputId": "41032204-65fb-46fe-fae3-14079438c132"
      },
      "outputs": [
        {
          "name": "stdout",
          "output_type": "stream",
          "text": [
            "['1', '2', '3', '4', '5', '6', '7', '8', '9', '10', '11', '12', '13', '14', '15', '16', '17', '18', '19', '20', '21', '22', '23', '24', '25', '26', '27', '28', '29', '31', '32', '33', '34', '35', '36', '37', '38', '39', '40', '41', '42', '43', '44', '45', '46', '47', '48', '49', '50', '51', '52', '53', '54', '55', '56', '57', '58', '59', '60', '61', '62', '63', '64', '65', '66', '67', '68', '69', '70', '71', '73', '74', '75', '76', '77', '78', '79', '80', '81', '82', '83', '84', '85', '86', '87', '88', '90', '91', '92', '93', '94', '95', '96', '97', '98', '99', '100']\n"
          ]
        }
      ],
      "source": [
        "positions = box.find_all('div', class_=\"cb-col cb-col-16 cb-rank-tbl cb-font-16\")\n",
        "\n",
        "Position = []\n",
        "\n",
        "for i in positions:\n",
        "    Position.append(i.text)\n",
        "\n",
        "print(Position)"
      ]
    },
    {
      "cell_type": "code",
      "execution_count": null,
      "metadata": {
        "id": "TyYC-PU7X0MQ",
        "outputId": "aeb0c3ac-dd0e-4992-db13-26e1a9392fb2"
      },
      "outputs": [
        {
          "name": "stdout",
          "output_type": "stream",
          "text": [
            "['Marnus Labuschagne', 'Steven Smith', 'Babar Azam', 'Travis Head', 'Joe Root', 'Kane Williamson', 'Rishabh Pant', 'Usman Khawaja', 'Dimuth Karunaratne', 'Rohit Sharma', 'Daryl Mitchell', 'Litton Das', 'Jonny Bairstow', 'David Warner', 'Virat Kohli', 'Dinesh Chandimal', 'Tom Blundell', 'Shreyas Iyer', 'Tom Latham', 'Angelo Mathews', 'Devon Conway', 'Cheteshwar Pujara', 'Temba Bavuma', 'Mushfiqur Rahim', 'Kraigg Brathwaite', 'Ben Stokes', 'Mayank Agarwal', 'Alex Carey', 'Ollie Pope', 'Imam-ul-Haq', 'Mohammad Rizwan', 'Sean Williams', 'Dean Elgar', 'Azhar Ali', 'Colin de Grandhomme', 'Henry Nicholls', 'Abid Ali', 'Ravindra Jadeja', 'Cameron Green', 'Dhananjaya de Silva', 'Shakib Al Hasan', 'Ajinkya Rahane', 'Tamim Iqbal', 'Keegan Petersen', 'Harry Brook', 'Abdullah Shafique', 'Jermaine Blackwood', 'Niroshan Dickwella', 'Kyle Verreynne', 'Sarfaraz Ahmed', 'Sikandar Raza', 'Nkrumah Bonner', 'Zak Crawley', 'KL Rahul', 'Kusal Mendis', 'Ben Duckett', 'Fawad Alam', 'Rassie van der Dussen', 'Aiden Markram', 'Oshada Fernando', 'Shubman Gill', 'Hanuma Vihari', 'Ibrahim Zadran', 'Rory Burns', 'Ben Foakes', 'Mahmudullah', 'Tim Paine', 'Mominul Haque', 'Kyle Mayers', 'Pathum Nissanka', 'Jos Buttler', 'Jason Holder', 'Sarel Erwee', 'Kusal Perera', 'Shane Dowrich', 'Alex Lees', 'Matthew Wade', 'John Campbell', 'Joshua Da Silva', 'Regis Chakabva', 'Joe Burns', 'Washington Sundar', 'Ravichandran Ashwin', 'Shan Masood', 'Najmul Hossain Shanto', 'Lahiru Thirimanne', 'Hashmatullah Shahidi', 'Kamindu Mendis', 'Dominic Sibley', 'Faheem Ashraf', 'Jamie Overton', 'Nurul Hasan', 'Chris Woakes', 'Roston Chase', 'Dawid Malan', 'Marcus Harris', 'Will Young']\n"
          ]
        }
      ],
      "source": [
        "players = box.find_all('a', class_=\"text-hvr-underline text-bold cb-font-16\")\n",
        "\n",
        "Player = []\n",
        "\n",
        "for i in players:\n",
        "    Player.append(i.text)\n",
        "\n",
        "print(Player)"
      ]
    },
    {
      "cell_type": "code",
      "execution_count": null,
      "metadata": {
        "id": "UrylvJHQX0MR",
        "outputId": "7072af63-7b66-4285-dbf2-929eb206dd31"
      },
      "outputs": [
        {
          "name": "stdout",
          "output_type": "stream",
          "text": [
            "['AUSTRALIA', 'AUSTRALIA', 'PAKISTAN', 'AUSTRALIA', 'ENGLAND', 'NEW ZEALAND', 'INDIA', 'AUSTRALIA', 'SRI LANKA', 'INDIA', 'NEW ZEALAND', 'BANGLADESH', 'ENGLAND', 'AUSTRALIA', 'INDIA', 'SRI LANKA', 'NEW ZEALAND', 'INDIA', 'NEW ZEALAND', 'SRI LANKA', 'NEW ZEALAND', 'INDIA', 'SOUTH AFRICA', 'BANGLADESH', 'WEST INDIES', 'ENGLAND', 'INDIA', 'AUSTRALIA', 'ENGLAND', 'PAKISTAN', 'PAKISTAN', 'ZIMBABWE', 'SOUTH AFRICA', 'PAKISTAN', 'NEW ZEALAND', 'NEW ZEALAND', 'PAKISTAN', 'INDIA', 'AUSTRALIA', 'SRI LANKA', 'BANGLADESH', 'INDIA', 'BANGLADESH', 'SOUTH AFRICA', 'ENGLAND', 'PAKISTAN', 'WEST INDIES', 'SRI LANKA', 'SOUTH AFRICA', 'PAKISTAN', 'ZIMBABWE', 'WEST INDIES', 'ENGLAND', 'INDIA', 'SRI LANKA', 'ENGLAND', 'PAKISTAN', 'SOUTH AFRICA', 'SOUTH AFRICA', 'SRI LANKA', 'INDIA', 'INDIA', 'AFGHANISTAN', 'ENGLAND', 'ENGLAND', 'BANGLADESH', 'AUSTRALIA', 'BANGLADESH', 'WEST INDIES', 'SRI LANKA', 'ENGLAND', 'WEST INDIES', 'SOUTH AFRICA', 'SRI LANKA', 'WEST INDIES', 'ENGLAND', 'AUSTRALIA', 'WEST INDIES', 'WEST INDIES', 'ZIMBABWE', 'AUSTRALIA', 'INDIA', 'INDIA', 'PAKISTAN', 'BANGLADESH', 'SRI LANKA', 'AFGHANISTAN', 'SRI LANKA', 'ENGLAND', 'PAKISTAN', 'ENGLAND', 'BANGLADESH', 'ENGLAND', 'WEST INDIES', 'ENGLAND', 'AUSTRALIA', 'NEW ZEALAND']\n"
          ]
        }
      ],
      "source": [
        "teams = box.find_all('div', class_=\"cb-font-12 text-gray\")\n",
        "\n",
        "Team = []\n",
        "\n",
        "for i in teams:\n",
        "    Team.append(i.text)\n",
        "\n",
        "print(Team)"
      ]
    },
    {
      "cell_type": "code",
      "execution_count": null,
      "metadata": {
        "id": "v0M6QtkYX0MT",
        "outputId": "85d62ffb-d52f-4a9f-fa1b-2b987191e92e"
      },
      "outputs": [
        {
          "name": "stdout",
          "output_type": "stream",
          "text": [
            "['929', '892', '862', '841', '826', '810', '797', '770', '748', '732', '712', '702', '697', '680', '676', '673', '671', '666', '654', '654', '646', '642', '640', '639', '637', '633', '631', '628', '621', '614', '604', '603', '596', '593', '589', '581', '580', '578', '577', '570', '570', '566', '561', '552', '549', '549', '549', '534', '528', '524', '523', '523', '523', '517', '516', '513', '510', '507', '506', '500', '496', '491', '486', '485', '481', '479', '477', '476', '470', '461', '453', '450', '441', '439', '435', '433', '431', '430', '428', '427', '427', '425', '423', '423', '422', '419', '397', '396', '395', '393', '390', '388', '386', '386', '383', '379', '378']\n"
          ]
        }
      ],
      "source": [
        "ratings = box.find_all('div', class_=\"cb-col cb-col-17 cb-rank-tbl pull-right\")\n",
        "\n",
        "Rating = []\n",
        "\n",
        "for i in ratings:\n",
        "    Rating.append(i.text)\n",
        "\n",
        "print(Rating)"
      ]
    },
    {
      "cell_type": "code",
      "execution_count": null,
      "metadata": {
        "id": "m3BdD36wX0MU"
      },
      "outputs": [],
      "source": [
        "test = {\n",
        "    'Position' : Position,\n",
        "    \"Player\" : Player,\n",
        "    \"Rating\" : Rating\n",
        "}"
      ]
    },
    {
      "cell_type": "code",
      "execution_count": null,
      "metadata": {
        "id": "B0kgiE-hX0MU"
      },
      "outputs": [],
      "source": [
        "test = pd.DataFrame(test)"
      ]
    },
    {
      "cell_type": "code",
      "execution_count": null,
      "metadata": {
        "id": "8zyZUa50X0MV",
        "outputId": "e3d04b07-f99d-471c-9848-43b1a8c1757e"
      },
      "outputs": [
        {
          "data": {
            "text/html": [
              "<div>\n",
              "<style scoped>\n",
              "    .dataframe tbody tr th:only-of-type {\n",
              "        vertical-align: middle;\n",
              "    }\n",
              "\n",
              "    .dataframe tbody tr th {\n",
              "        vertical-align: top;\n",
              "    }\n",
              "\n",
              "    .dataframe thead th {\n",
              "        text-align: right;\n",
              "    }\n",
              "</style>\n",
              "<table border=\"1\" class=\"dataframe\">\n",
              "  <thead>\n",
              "    <tr style=\"text-align: right;\">\n",
              "      <th></th>\n",
              "      <th>Position</th>\n",
              "      <th>Player</th>\n",
              "      <th>Rating</th>\n",
              "    </tr>\n",
              "  </thead>\n",
              "  <tbody>\n",
              "    <tr>\n",
              "      <th>0</th>\n",
              "      <td>1</td>\n",
              "      <td>Marnus Labuschagne</td>\n",
              "      <td>929</td>\n",
              "    </tr>\n",
              "    <tr>\n",
              "      <th>1</th>\n",
              "      <td>2</td>\n",
              "      <td>Steven Smith</td>\n",
              "      <td>892</td>\n",
              "    </tr>\n",
              "    <tr>\n",
              "      <th>2</th>\n",
              "      <td>3</td>\n",
              "      <td>Babar Azam</td>\n",
              "      <td>862</td>\n",
              "    </tr>\n",
              "    <tr>\n",
              "      <th>3</th>\n",
              "      <td>4</td>\n",
              "      <td>Travis Head</td>\n",
              "      <td>841</td>\n",
              "    </tr>\n",
              "    <tr>\n",
              "      <th>4</th>\n",
              "      <td>5</td>\n",
              "      <td>Joe Root</td>\n",
              "      <td>826</td>\n",
              "    </tr>\n",
              "    <tr>\n",
              "      <th>...</th>\n",
              "      <td>...</td>\n",
              "      <td>...</td>\n",
              "      <td>...</td>\n",
              "    </tr>\n",
              "    <tr>\n",
              "      <th>92</th>\n",
              "      <td>96</td>\n",
              "      <td>Chris Woakes</td>\n",
              "      <td>386</td>\n",
              "    </tr>\n",
              "    <tr>\n",
              "      <th>93</th>\n",
              "      <td>97</td>\n",
              "      <td>Roston Chase</td>\n",
              "      <td>386</td>\n",
              "    </tr>\n",
              "    <tr>\n",
              "      <th>94</th>\n",
              "      <td>98</td>\n",
              "      <td>Dawid Malan</td>\n",
              "      <td>383</td>\n",
              "    </tr>\n",
              "    <tr>\n",
              "      <th>95</th>\n",
              "      <td>99</td>\n",
              "      <td>Marcus Harris</td>\n",
              "      <td>379</td>\n",
              "    </tr>\n",
              "    <tr>\n",
              "      <th>96</th>\n",
              "      <td>100</td>\n",
              "      <td>Will Young</td>\n",
              "      <td>378</td>\n",
              "    </tr>\n",
              "  </tbody>\n",
              "</table>\n",
              "<p>97 rows × 3 columns</p>\n",
              "</div>"
            ],
            "text/plain": [
              "   Position              Player Rating\n",
              "0         1  Marnus Labuschagne    929\n",
              "1         2        Steven Smith    892\n",
              "2         3          Babar Azam    862\n",
              "3         4         Travis Head    841\n",
              "4         5            Joe Root    826\n",
              "..      ...                 ...    ...\n",
              "92       96        Chris Woakes    386\n",
              "93       97        Roston Chase    386\n",
              "94       98         Dawid Malan    383\n",
              "95       99       Marcus Harris    379\n",
              "96      100          Will Young    378\n",
              "\n",
              "[97 rows x 3 columns]"
            ]
          },
          "execution_count": 14,
          "metadata": {},
          "output_type": "execute_result"
        }
      ],
      "source": [
        "test"
      ]
    },
    {
      "cell_type": "code",
      "execution_count": null,
      "metadata": {
        "id": "9jvuviKEX0MV"
      },
      "outputs": [],
      "source": [
        "test.to_csv('Batting_Test.csv',index=False)"
      ]
    }
  ],
  "metadata": {
    "kernelspec": {
      "display_name": "Python 3",
      "language": "python",
      "name": "python3"
    },
    "language_info": {
      "codemirror_mode": {
        "name": "ipython",
        "version": 3
      },
      "file_extension": ".py",
      "mimetype": "text/x-python",
      "name": "python",
      "nbconvert_exporter": "python",
      "pygments_lexer": "ipython3",
      "version": "3.11.1"
    },
    "orig_nbformat": 4,
    "vscode": {
      "interpreter": {
        "hash": "64924d34f5c95f261818ee0e41d58b43741dcf0b72677c10b726c1fe86046c0c"
      }
    },
    "colab": {
      "provenance": [],
      "include_colab_link": true
    }
  },
  "nbformat": 4,
  "nbformat_minor": 0
}